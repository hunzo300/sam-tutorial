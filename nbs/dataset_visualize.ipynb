{
 "cells": [
  {
   "cell_type": "code",
   "execution_count": null,
   "metadata": {},
   "outputs": [],
   "source": [
    "import numpy as np\n",
    "import matplotlib as plt\n",
    "\n",
    "data_path=\"/mnt/sda/minkyukim/sam_dataset/coco_npy_train_dataset/imgs/\"\n"
   ]
  },
  {
   "cell_type": "code",
   "execution_count": 2,
   "metadata": {},
   "outputs": [
    {
     "name": "stdout",
     "output_type": "stream",
     "text": [
      "전체가 0으로 이루어진 파일: 625_T1_lbl1.npy\n",
      "전체가 0으로 이루어진 파일: 625_T2_lbl1.npy\n",
      "전체가 0으로 이루어진 파일: 625_T1ce_lbl1.npy\n",
      "전체가 0으로 이루어진 파일: 625_Flair_lbl1.npy\n",
      "전체가 0으로 이루어진 파일: 15452_T1_lbl3.npy\n",
      "전체가 0으로 이루어진 파일: 15452_T2_lbl3.npy\n",
      "전체가 0으로 이루어진 파일: 15332_T1_lbl2.npy\n",
      "전체가 0으로 이루어진 파일: 15332_T2_lbl2.npy\n",
      "전체가 0으로 이루어진 파일: 15332_T1ce_lbl2.npy\n",
      "전체가 0으로 이루어진 파일: 15332_Flair_lbl2.npy\n",
      "전체가 0으로 이루어진 파일: 12593_T1_lbl1.npy\n",
      "전체가 0으로 이루어진 파일: 12593_T2_lbl1.npy\n",
      "전체가 0으로 이루어진 파일: 12593_T1ce_lbl1.npy\n",
      "전체가 0으로 이루어진 파일: 12593_Flair_lbl1.npy\n",
      "전체가 0으로 이루어진 파일: 14239_T1_lbl1.npy\n",
      "전체가 0으로 이루어진 파일: 14239_T2_lbl1.npy\n",
      "전체가 0으로 이루어진 파일: 11076_T1_lbl1.npy\n",
      "전체가 0으로 이루어진 파일: 11076_T2_lbl1.npy\n",
      "전체가 0으로 이루어진 파일: 10467_T1_lbl5.npy\n",
      "전체가 0으로 이루어진 파일: 10467_T2_lbl5.npy\n",
      "전체가 0으로 이루어진 파일: 10467_T1ce_lbl5.npy\n",
      "전체가 0으로 이루어진 파일: 10467_Flair_lbl5.npy\n"
     ]
    },
    {
     "ename": "KeyboardInterrupt",
     "evalue": "",
     "output_type": "error",
     "traceback": [
      "\u001b[0;31m---------------------------------------------------------------------------\u001b[0m",
      "\u001b[0;31mKeyboardInterrupt\u001b[0m                         Traceback (most recent call last)",
      "Cell \u001b[0;32mIn[2], line 14\u001b[0m\n\u001b[1;32m     11\u001b[0m file_path \u001b[38;5;241m=\u001b[39m os\u001b[38;5;241m.\u001b[39mpath\u001b[38;5;241m.\u001b[39mjoin(folder_path, filename)\n\u001b[1;32m     13\u001b[0m \u001b[38;5;66;03m# 파일 로드\u001b[39;00m\n\u001b[0;32m---> 14\u001b[0m data \u001b[38;5;241m=\u001b[39m \u001b[43mnp\u001b[49m\u001b[38;5;241;43m.\u001b[39;49m\u001b[43mload\u001b[49m\u001b[43m(\u001b[49m\u001b[43mfile_path\u001b[49m\u001b[43m)\u001b[49m\n\u001b[1;32m     16\u001b[0m \u001b[38;5;66;03m# 데이터가 모두 0인지 확인\u001b[39;00m\n\u001b[1;32m     17\u001b[0m \u001b[38;5;28;01mif\u001b[39;00m np\u001b[38;5;241m.\u001b[39mall(data \u001b[38;5;241m==\u001b[39m \u001b[38;5;241m0\u001b[39m):\n",
      "File \u001b[0;32m~/anaconda3/envs/medsam/lib/python3.10/site-packages/numpy/lib/_npyio_impl.py:484\u001b[0m, in \u001b[0;36mload\u001b[0;34m(file, mmap_mode, allow_pickle, fix_imports, encoding, max_header_size)\u001b[0m\n\u001b[1;32m    481\u001b[0m         \u001b[38;5;28;01mreturn\u001b[39;00m \u001b[38;5;28mformat\u001b[39m\u001b[38;5;241m.\u001b[39mopen_memmap(file, mode\u001b[38;5;241m=\u001b[39mmmap_mode,\n\u001b[1;32m    482\u001b[0m                                   max_header_size\u001b[38;5;241m=\u001b[39mmax_header_size)\n\u001b[1;32m    483\u001b[0m     \u001b[38;5;28;01melse\u001b[39;00m:\n\u001b[0;32m--> 484\u001b[0m         \u001b[38;5;28;01mreturn\u001b[39;00m \u001b[38;5;28;43mformat\u001b[39;49m\u001b[38;5;241;43m.\u001b[39;49m\u001b[43mread_array\u001b[49m\u001b[43m(\u001b[49m\u001b[43mfid\u001b[49m\u001b[43m,\u001b[49m\u001b[43m \u001b[49m\u001b[43mallow_pickle\u001b[49m\u001b[38;5;241;43m=\u001b[39;49m\u001b[43mallow_pickle\u001b[49m\u001b[43m,\u001b[49m\n\u001b[1;32m    485\u001b[0m \u001b[43m                                 \u001b[49m\u001b[43mpickle_kwargs\u001b[49m\u001b[38;5;241;43m=\u001b[39;49m\u001b[43mpickle_kwargs\u001b[49m\u001b[43m,\u001b[49m\n\u001b[1;32m    486\u001b[0m \u001b[43m                                 \u001b[49m\u001b[43mmax_header_size\u001b[49m\u001b[38;5;241;43m=\u001b[39;49m\u001b[43mmax_header_size\u001b[49m\u001b[43m)\u001b[49m\n\u001b[1;32m    487\u001b[0m \u001b[38;5;28;01melse\u001b[39;00m:\n\u001b[1;32m    488\u001b[0m     \u001b[38;5;66;03m# Try a pickle\u001b[39;00m\n\u001b[1;32m    489\u001b[0m     \u001b[38;5;28;01mif\u001b[39;00m \u001b[38;5;129;01mnot\u001b[39;00m allow_pickle:\n",
      "File \u001b[0;32m~/anaconda3/envs/medsam/lib/python3.10/site-packages/numpy/lib/format.py:834\u001b[0m, in \u001b[0;36mread_array\u001b[0;34m(fp, allow_pickle, pickle_kwargs, max_header_size)\u001b[0m\n\u001b[1;32m    831\u001b[0m \u001b[38;5;28;01melse\u001b[39;00m:\n\u001b[1;32m    832\u001b[0m     \u001b[38;5;28;01mif\u001b[39;00m isfileobj(fp):\n\u001b[1;32m    833\u001b[0m         \u001b[38;5;66;03m# We can use the fast fromfile() function.\u001b[39;00m\n\u001b[0;32m--> 834\u001b[0m         array \u001b[38;5;241m=\u001b[39m \u001b[43mnumpy\u001b[49m\u001b[38;5;241;43m.\u001b[39;49m\u001b[43mfromfile\u001b[49m\u001b[43m(\u001b[49m\u001b[43mfp\u001b[49m\u001b[43m,\u001b[49m\u001b[43m \u001b[49m\u001b[43mdtype\u001b[49m\u001b[38;5;241;43m=\u001b[39;49m\u001b[43mdtype\u001b[49m\u001b[43m,\u001b[49m\u001b[43m \u001b[49m\u001b[43mcount\u001b[49m\u001b[38;5;241;43m=\u001b[39;49m\u001b[43mcount\u001b[49m\u001b[43m)\u001b[49m\n\u001b[1;32m    835\u001b[0m     \u001b[38;5;28;01melse\u001b[39;00m:\n\u001b[1;32m    836\u001b[0m         \u001b[38;5;66;03m# This is not a real file. We have to read it the\u001b[39;00m\n\u001b[1;32m    837\u001b[0m         \u001b[38;5;66;03m# memory-intensive way.\u001b[39;00m\n\u001b[0;32m   (...)\u001b[0m\n\u001b[1;32m    845\u001b[0m         \u001b[38;5;66;03m# not correctly instantiate zero-width string dtypes; see\u001b[39;00m\n\u001b[1;32m    846\u001b[0m         \u001b[38;5;66;03m# https://github.com/numpy/numpy/pull/6430\u001b[39;00m\n\u001b[1;32m    847\u001b[0m         array \u001b[38;5;241m=\u001b[39m numpy\u001b[38;5;241m.\u001b[39mndarray(count, dtype\u001b[38;5;241m=\u001b[39mdtype)\n",
      "\u001b[0;31mKeyboardInterrupt\u001b[0m: "
     ]
    }
   ],
   "source": [
    "import os\n",
    "import numpy as np\n",
    "\n",
    "# 폴더 경로 설정\n",
    "folder_path = '/mnt/sda/minkyukim/sam_dataset_refined/brats_npy_train_dataset_1024image/gts'\n",
    "\n",
    "# 해당 폴더에 있는 모든 .npy 파일을 검사\n",
    "for filename in os.listdir(folder_path):\n",
    "    if filename.endswith('.npy'):\n",
    "        # 파일 경로\n",
    "        file_path = os.path.join(folder_path, filename)\n",
    "        \n",
    "        # 파일 로드\n",
    "        data = np.load(file_path)\n",
    "        \n",
    "        # 데이터가 모두 0인지 확인\n",
    "        if np.all(data == 0):\n",
    "            print(f\"전체가 0으로 이루어진 파일: {filename}\")\n",
    "        else:\n",
    "            pass\n"
   ]
  },
  {
   "cell_type": "code",
   "execution_count": 4,
   "metadata": {},
   "outputs": [],
   "source": [
    "import os\n",
    "import numpy as np\n",
    "\n",
    "# 폴더 경로 설정\n",
    "folder_path = '/mnt/sda/minkyukim/sam_dataset_refined/brats_npy_test_dataset_1024image/gts'\n",
    "\n",
    "# 해당 폴더에 있는 모든 .npy 파일을 검사\n",
    "for filename in os.listdir(folder_path):\n",
    "    if filename.endswith('.npy'):\n",
    "        # 파일 경로\n",
    "        file_path = os.path.join(folder_path, filename)\n",
    "        \n",
    "        # 파일 로드\n",
    "        data = np.load(file_path)\n",
    "        \n",
    "        # 데이터가 모두 0인지 확인\n",
    "        if np.all(data == 0):\n",
    "            print(f\"삭제할 파일: {filename}\")\n",
    "            os.remove(file_path)  # 파일 삭제\n",
    "            print(f\"파일 삭제 완료: {filename}\")\n",
    "        else:\n",
    "            pass\n"
   ]
  }
 ],
 "metadata": {
  "kernelspec": {
   "display_name": "medsam",
   "language": "python",
   "name": "python3"
  },
  "language_info": {
   "codemirror_mode": {
    "name": "ipython",
    "version": 3
   },
   "file_extension": ".py",
   "mimetype": "text/x-python",
   "name": "python",
   "nbconvert_exporter": "python",
   "pygments_lexer": "ipython3",
   "version": "3.10.13"
  }
 },
 "nbformat": 4,
 "nbformat_minor": 2
}
